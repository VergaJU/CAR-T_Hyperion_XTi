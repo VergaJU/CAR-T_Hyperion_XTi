{
 "cells": [
  {
   "cell_type": "code",
   "execution_count": 1,
   "id": "741d322f-fbaa-4a34-adf3-d2b4ba96c797",
   "metadata": {},
   "outputs": [
    {
     "name": "stdout",
     "output_type": "stream",
     "text": [
      "Requirement already satisfied: pandas in /opt/conda/lib/python3.10/site-packages (2.2.3)\n",
      "Requirement already satisfied: tzdata>=2022.7 in /opt/conda/lib/python3.10/site-packages (from pandas) (2022.7)\n",
      "Requirement already satisfied: numpy>=1.22.4 in /opt/conda/lib/python3.10/site-packages (from pandas) (1.26.4)\n",
      "Requirement already satisfied: pytz>=2020.1 in /opt/conda/lib/python3.10/site-packages (from pandas) (2022.7.1)\n",
      "Requirement already satisfied: python-dateutil>=2.8.2 in /opt/conda/lib/python3.10/site-packages (from pandas) (2.8.2)\n",
      "Requirement already satisfied: six>=1.5 in /opt/conda/lib/python3.10/site-packages (from python-dateutil>=2.8.2->pandas) (1.16.0)\n"
     ]
    }
   ],
   "source": [
    "!pip install pandas -U"
   ]
  },
  {
   "cell_type": "code",
   "execution_count": 2,
   "id": "f19e3517-7b94-4072-a7d0-775b4af953b0",
   "metadata": {},
   "outputs": [
    {
     "name": "stdout",
     "output_type": "stream",
     "text": [
      "Requirement already satisfied: h5py in /opt/conda/lib/python3.10/site-packages (3.12.1)\n",
      "Requirement already satisfied: numpy>=1.19.3 in /opt/conda/lib/python3.10/site-packages (from h5py) (1.26.4)\n"
     ]
    }
   ],
   "source": [
    "!pip install h5py -U"
   ]
  },
  {
   "cell_type": "code",
   "execution_count": 3,
   "id": "f0ef1f48-2539-4c7b-a36c-25ca1f7ad929",
   "metadata": {},
   "outputs": [
    {
     "name": "stdout",
     "output_type": "stream",
     "text": [
      "Requirement already satisfied: anndata in /opt/conda/lib/python3.10/site-packages (0.10.9)\n",
      "Requirement already satisfied: array-api-compat!=1.5,>1.4 in /opt/conda/lib/python3.10/site-packages (from anndata) (1.9.1)\n",
      "Requirement already satisfied: natsort in /opt/conda/lib/python3.10/site-packages (from anndata) (8.4.0)\n",
      "Requirement already satisfied: exceptiongroup in /opt/conda/lib/python3.10/site-packages (from anndata) (1.2.2)\n",
      "Requirement already satisfied: scipy>1.8 in /opt/conda/lib/python3.10/site-packages (from anndata) (1.10.0)\n",
      "Requirement already satisfied: numpy>=1.23 in /opt/conda/lib/python3.10/site-packages (from anndata) (1.26.4)\n",
      "Requirement already satisfied: pandas!=2.1.0rc0,!=2.1.2,>=1.4 in /opt/conda/lib/python3.10/site-packages (from anndata) (2.2.3)\n",
      "Requirement already satisfied: h5py>=3.1 in /opt/conda/lib/python3.10/site-packages (from anndata) (3.12.1)\n",
      "Requirement already satisfied: packaging>=20.0 in /opt/conda/lib/python3.10/site-packages (from anndata) (24.1)\n",
      "Requirement already satisfied: python-dateutil>=2.8.2 in /opt/conda/lib/python3.10/site-packages (from pandas!=2.1.0rc0,!=2.1.2,>=1.4->anndata) (2.8.2)\n",
      "Requirement already satisfied: tzdata>=2022.7 in /opt/conda/lib/python3.10/site-packages (from pandas!=2.1.0rc0,!=2.1.2,>=1.4->anndata) (2022.7)\n",
      "Requirement already satisfied: pytz>=2020.1 in /opt/conda/lib/python3.10/site-packages (from pandas!=2.1.0rc0,!=2.1.2,>=1.4->anndata) (2022.7.1)\n",
      "Requirement already satisfied: six>=1.5 in /opt/conda/lib/python3.10/site-packages (from python-dateutil>=2.8.2->pandas!=2.1.0rc0,!=2.1.2,>=1.4->anndata) (1.16.0)\n"
     ]
    }
   ],
   "source": [
    "!pip install anndata -U"
   ]
  },
  {
   "cell_type": "code",
   "execution_count": 4,
   "id": "8d580b06-290e-4c80-8c29-5398ea83428b",
   "metadata": {},
   "outputs": [
    {
     "name": "stdout",
     "output_type": "stream",
     "text": [
      "Requirement already satisfied: scanpy in /opt/conda/lib/python3.10/site-packages (1.10.3)\n",
      "Requirement already satisfied: patsy in /opt/conda/lib/python3.10/site-packages (from scanpy) (0.5.3)\n",
      "Requirement already satisfied: natsort in /opt/conda/lib/python3.10/site-packages (from scanpy) (8.4.0)\n",
      "Requirement already satisfied: session-info in /opt/conda/lib/python3.10/site-packages (from scanpy) (1.0.0)\n",
      "Requirement already satisfied: scipy>=1.8 in /opt/conda/lib/python3.10/site-packages (from scanpy) (1.10.0)\n",
      "Requirement already satisfied: scikit-learn>=0.24 in /opt/conda/lib/python3.10/site-packages (from scanpy) (1.2.1)\n",
      "Requirement already satisfied: numba>=0.56 in /opt/conda/lib/python3.10/site-packages (from scanpy) (0.60.0)\n",
      "Requirement already satisfied: joblib in /opt/conda/lib/python3.10/site-packages (from scanpy) (1.2.0)\n",
      "Requirement already satisfied: networkx>=2.7 in /opt/conda/lib/python3.10/site-packages (from scanpy) (3.0)\n",
      "Requirement already satisfied: umap-learn!=0.5.0,>=0.5 in /opt/conda/lib/python3.10/site-packages (from scanpy) (0.5.7)\n",
      "Requirement already satisfied: seaborn>=0.13 in /opt/conda/lib/python3.10/site-packages (from scanpy) (0.13.2)\n",
      "Requirement already satisfied: tqdm in /opt/conda/lib/python3.10/site-packages (from scanpy) (4.64.1)\n",
      "Requirement already satisfied: statsmodels>=0.13 in /opt/conda/lib/python3.10/site-packages (from scanpy) (0.13.5)\n",
      "Requirement already satisfied: pandas>=1.5 in /opt/conda/lib/python3.10/site-packages (from scanpy) (2.2.3)\n",
      "Requirement already satisfied: anndata>=0.8 in /opt/conda/lib/python3.10/site-packages (from scanpy) (0.10.9)\n",
      "Requirement already satisfied: packaging>=21.3 in /opt/conda/lib/python3.10/site-packages (from scanpy) (24.1)\n",
      "Requirement already satisfied: matplotlib>=3.6 in /opt/conda/lib/python3.10/site-packages (from scanpy) (3.6.3)\n",
      "Requirement already satisfied: pynndescent>=0.5 in /opt/conda/lib/python3.10/site-packages (from scanpy) (0.5.13)\n",
      "Requirement already satisfied: h5py>=3.1 in /opt/conda/lib/python3.10/site-packages (from scanpy) (3.12.1)\n",
      "Requirement already satisfied: numpy>=1.23 in /opt/conda/lib/python3.10/site-packages (from scanpy) (1.26.4)\n",
      "Requirement already satisfied: legacy-api-wrap>=1.4 in /opt/conda/lib/python3.10/site-packages (from scanpy) (1.4)\n",
      "Requirement already satisfied: array-api-compat!=1.5,>1.4 in /opt/conda/lib/python3.10/site-packages (from anndata>=0.8->scanpy) (1.9.1)\n",
      "Requirement already satisfied: exceptiongroup in /opt/conda/lib/python3.10/site-packages (from anndata>=0.8->scanpy) (1.2.2)\n",
      "Requirement already satisfied: python-dateutil>=2.7 in /opt/conda/lib/python3.10/site-packages (from matplotlib>=3.6->scanpy) (2.8.2)\n",
      "Requirement already satisfied: fonttools>=4.22.0 in /opt/conda/lib/python3.10/site-packages (from matplotlib>=3.6->scanpy) (4.38.0)\n",
      "Requirement already satisfied: pillow>=6.2.0 in /opt/conda/lib/python3.10/site-packages (from matplotlib>=3.6->scanpy) (9.4.0)\n",
      "Requirement already satisfied: kiwisolver>=1.0.1 in /opt/conda/lib/python3.10/site-packages (from matplotlib>=3.6->scanpy) (1.4.4)\n",
      "Requirement already satisfied: contourpy>=1.0.1 in /opt/conda/lib/python3.10/site-packages (from matplotlib>=3.6->scanpy) (1.0.7)\n",
      "Requirement already satisfied: pyparsing>=2.2.1 in /opt/conda/lib/python3.10/site-packages (from matplotlib>=3.6->scanpy) (3.0.9)\n",
      "Requirement already satisfied: cycler>=0.10 in /opt/conda/lib/python3.10/site-packages (from matplotlib>=3.6->scanpy) (0.11.0)\n",
      "Requirement already satisfied: llvmlite<0.44,>=0.43.0dev0 in /opt/conda/lib/python3.10/site-packages (from numba>=0.56->scanpy) (0.43.0)\n",
      "Requirement already satisfied: tzdata>=2022.7 in /opt/conda/lib/python3.10/site-packages (from pandas>=1.5->scanpy) (2022.7)\n",
      "Requirement already satisfied: pytz>=2020.1 in /opt/conda/lib/python3.10/site-packages (from pandas>=1.5->scanpy) (2022.7.1)\n",
      "Requirement already satisfied: threadpoolctl>=2.0.0 in /opt/conda/lib/python3.10/site-packages (from scikit-learn>=0.24->scanpy) (3.1.0)\n",
      "Requirement already satisfied: six in /opt/conda/lib/python3.10/site-packages (from patsy->scanpy) (1.16.0)\n",
      "Requirement already satisfied: stdlib-list in /opt/conda/lib/python3.10/site-packages (from session-info->scanpy) (0.11.0)\n"
     ]
    }
   ],
   "source": [
    "!pip install scanpy -U"
   ]
  },
  {
   "cell_type": "code",
   "execution_count": 10,
   "id": "b0dda248-76d9-48a7-bd03-8fb9e9783333",
   "metadata": {},
   "outputs": [
    {
     "name": "stdout",
     "output_type": "stream",
     "text": [
      "Collecting pathlib\n",
      "  Downloading pathlib-1.0.1-py3-none-any.whl (14 kB)\n",
      "Installing collected packages: pathlib\n",
      "Successfully installed pathlib-1.0.1\n"
     ]
    }
   ],
   "source": [
    "!pip install pathlib -U"
   ]
  },
  {
   "cell_type": "code",
   "execution_count": 48,
   "id": "850a393f-901d-4b3d-aebd-f9871db7586d",
   "metadata": {},
   "outputs": [],
   "source": [
    "import pandas as pd\n",
    "import numpy as np\n",
    "import matplotlib.pyplot as plt\n",
    "import scanpy as sc\n",
    "import csv\n",
    "import seaborn as sns\n",
    "import anndata as ad\n",
    "from sklearn.preprocessing import StandardScaler\n",
    "from sklearn.linear_model import Ridge\n",
    "from sklearn.pipeline import Pipeline"
   ]
  },
  {
   "cell_type": "code",
   "execution_count": 49,
   "id": "56f867d0-ecd8-4f4d-8b41-7f2ea206e273",
   "metadata": {},
   "outputs": [],
   "source": [
    "counts = pd.read_csv('../data/emd/csv_tables/counts.csv', engine=\"pyarrow\", index_col=0)\n",
    "exprs = pd.read_csv('../data/emd/csv_tables/exprs.csv', engine=\"pyarrow\", index_col=0)\n",
    "metadata = pd.read_csv('../data/emd/csv_tables/observations_metadata.csv', engine=\"pyarrow\", index_col=0)\n",
    "# metadata['patient_n']=metadata['patient_n'].astype('category')\n",
    "# metadata['sample_id']=metadata['sample_id'].astype('category')\n",
    "marker_data = pd.read_csv('../data/emd/csv_tables/features_metadata.csv', engine=\"pyarrow\", index_col=0)\n",
    "# fastMNN= pd.read_csv('../data/emd/csv_tables/fastMNN.csv', engine=\"pyarrow\", index_col=0)\n",
    "# UMAP_mnnCorrected = pd.read_csv('../data/emd/csv_tables/UMAP_mnnCorrected.csv', engine=\"pyarrow\", index_col=0)"
   ]
  },
  {
   "cell_type": "code",
   "execution_count": 50,
   "id": "9991c01c-dab8-4d06-a5c0-5dab5ae0f982",
   "metadata": {},
   "outputs": [
    {
     "data": {
      "text/plain": [
       "AnnData object with n_obs × n_vars = 108636 × 37\n",
       "    obs: 'sample_id', 'ObjectNumber', 'area', 'axis_major_length', 'axis_minor_length', 'eccentricity', 'patient_n', 'BM_cohort', 'tissue_type', 'body_part', 'timepoint', 'width_px', 'height_px'\n",
       "    var: 'channel', 'name', 'keep', 'deepcell', 'use_channel', 'features_oi', 'channel_name'\n",
       "    layers: 'exprs'"
      ]
     },
     "execution_count": 50,
     "metadata": {},
     "output_type": "execute_result"
    }
   ],
   "source": [
    "from scipy.sparse import csr_matrix\n",
    "\n",
    "adata = ad.AnnData(csr_matrix(counts))\n",
    "adata.obs_names = counts.index\n",
    "adata.var_names = counts.columns\n",
    "adata.obs=metadata\n",
    "adata.var=marker_data\n",
    "adata.layers['exprs'] = csr_matrix(exprs)\n",
    "adata"
   ]
  },
  {
   "cell_type": "code",
   "execution_count": 51,
   "id": "a4b01104-f82f-4f6b-ae3b-c86e6c06e826",
   "metadata": {},
   "outputs": [
    {
     "name": "stdout",
     "output_type": "stream",
     "text": [
      "sample_id is object\n",
      "ObjectNumber is int64\n",
      "area is int64\n",
      "axis_major_length is float64\n",
      "axis_minor_length is float64\n",
      "eccentricity is float64\n",
      "patient_n is int64\n",
      "BM_cohort is object\n",
      "tissue_type is object\n",
      "body_part is object\n",
      "timepoint is object\n",
      "width_px is int64\n",
      "height_px is int64\n"
     ]
    }
   ],
   "source": [
    "for col in adata.obs.columns:\n",
    "    if adata.obs[col].dtype == 'category':\n",
    "        adata.obs[col] = adata.obs[col].astype(str)\n",
    "    print(f\"{col} is {adata.obs[col].dtype}\")"
   ]
  },
  {
   "cell_type": "code",
   "execution_count": 52,
   "id": "c3d98d6d-7fde-418b-bea5-a391e1b10b34",
   "metadata": {},
   "outputs": [
    {
     "name": "stdout",
     "output_type": "stream",
     "text": [
      "channel is object\n",
      "name is object\n",
      "keep is int64\n",
      "deepcell is int64\n",
      "use_channel is bool\n",
      "features_oi is bool\n",
      "channel_name is object\n"
     ]
    }
   ],
   "source": [
    "for col in adata.var.columns:\n",
    "    if adata.var[col].dtype == 'category':\n",
    "        adata.var[col] = adata.var[col].astype(str)\n",
    "    print(f\"{col} is {adata.var[col].dtype}\")"
   ]
  },
  {
   "cell_type": "code",
   "execution_count": 55,
   "id": "c866feda-e947-4870-8cb3-4680fdee840a",
   "metadata": {},
   "outputs": [
    {
     "ename": "TypeError",
     "evalue": "expected str, bytes or os.PathLike object, not NoneType",
     "output_type": "error",
     "traceback": [
      "\u001b[0;31m---------------------------------------------------------------------------\u001b[0m",
      "\u001b[0;31mTypeError\u001b[0m                                 Traceback (most recent call last)",
      "Cell \u001b[0;32mIn[55], line 1\u001b[0m\n\u001b[0;32m----> 1\u001b[0m \u001b[43madata\u001b[49m\u001b[38;5;241;43m.\u001b[39;49m\u001b[43mwrite\u001b[49m\u001b[43m(\u001b[49m\u001b[38;5;124;43m'\u001b[39;49m\u001b[38;5;124;43m./emd_not_annotated.h5ad\u001b[39;49m\u001b[38;5;124;43m'\u001b[39;49m\u001b[43m)\u001b[49m\n",
      "File \u001b[0;32m/opt/conda/lib/python3.10/site-packages/anndata/_core/anndata.py:1863\u001b[0m, in \u001b[0;36mAnnData.write_h5ad\u001b[0;34m(self, filename, compression, compression_opts, as_dense)\u001b[0m\n\u001b[1;32m   1860\u001b[0m \u001b[38;5;28;01mif\u001b[39;00m filename \u001b[38;5;129;01mis\u001b[39;00m \u001b[38;5;28;01mNone\u001b[39;00m:\n\u001b[1;32m   1861\u001b[0m     filename \u001b[38;5;241m=\u001b[39m \u001b[38;5;28mself\u001b[39m\u001b[38;5;241m.\u001b[39mfilename\n\u001b[0;32m-> 1863\u001b[0m \u001b[43mwrite_h5ad\u001b[49m\u001b[43m(\u001b[49m\n\u001b[1;32m   1864\u001b[0m \u001b[43m    \u001b[49m\u001b[43mPath\u001b[49m\u001b[43m(\u001b[49m\u001b[43mfilename\u001b[49m\u001b[43m)\u001b[49m\u001b[43m,\u001b[49m\n\u001b[1;32m   1865\u001b[0m \u001b[43m    \u001b[49m\u001b[38;5;28;43mself\u001b[39;49m\u001b[43m,\u001b[49m\n\u001b[1;32m   1866\u001b[0m \u001b[43m    \u001b[49m\u001b[43mcompression\u001b[49m\u001b[38;5;241;43m=\u001b[39;49m\u001b[43mcompression\u001b[49m\u001b[43m,\u001b[49m\n\u001b[1;32m   1867\u001b[0m \u001b[43m    \u001b[49m\u001b[43mcompression_opts\u001b[49m\u001b[38;5;241;43m=\u001b[39;49m\u001b[43mcompression_opts\u001b[49m\u001b[43m,\u001b[49m\n\u001b[1;32m   1868\u001b[0m \u001b[43m    \u001b[49m\u001b[43mas_dense\u001b[49m\u001b[38;5;241;43m=\u001b[39;49m\u001b[43mas_dense\u001b[49m\u001b[43m,\u001b[49m\n\u001b[1;32m   1869\u001b[0m \u001b[43m\u001b[49m\u001b[43m)\u001b[49m\n\u001b[1;32m   1871\u001b[0m \u001b[38;5;28;01mif\u001b[39;00m \u001b[38;5;28mself\u001b[39m\u001b[38;5;241m.\u001b[39misbacked:\n\u001b[1;32m   1872\u001b[0m     \u001b[38;5;28mself\u001b[39m\u001b[38;5;241m.\u001b[39mfile\u001b[38;5;241m.\u001b[39mfilename \u001b[38;5;241m=\u001b[39m filename\n",
      "File \u001b[0;32m/opt/conda/lib/python3.10/site-packages/anndata/_io/h5ad.py:101\u001b[0m, in \u001b[0;36mwrite_h5ad\u001b[0;34m(filepath, adata, as_dense, dataset_kwargs, **kwargs)\u001b[0m\n\u001b[1;32m     99\u001b[0m \u001b[38;5;28;01melif\u001b[39;00m adata\u001b[38;5;241m.\u001b[39mraw \u001b[38;5;129;01mis\u001b[39;00m \u001b[38;5;129;01mnot\u001b[39;00m \u001b[38;5;28;01mNone\u001b[39;00m:\n\u001b[1;32m    100\u001b[0m     write_elem(f, \u001b[38;5;124m\"\u001b[39m\u001b[38;5;124mraw\u001b[39m\u001b[38;5;124m\"\u001b[39m, adata\u001b[38;5;241m.\u001b[39mraw, dataset_kwargs\u001b[38;5;241m=\u001b[39mdataset_kwargs)\n\u001b[0;32m--> 101\u001b[0m \u001b[43mwrite_elem\u001b[49m\u001b[43m(\u001b[49m\u001b[43mf\u001b[49m\u001b[43m,\u001b[49m\u001b[43m \u001b[49m\u001b[38;5;124;43m\"\u001b[39;49m\u001b[38;5;124;43mobs\u001b[39;49m\u001b[38;5;124;43m\"\u001b[39;49m\u001b[43m,\u001b[49m\u001b[43m \u001b[49m\u001b[43madata\u001b[49m\u001b[38;5;241;43m.\u001b[39;49m\u001b[43mobs\u001b[49m\u001b[43m,\u001b[49m\u001b[43m \u001b[49m\u001b[43mdataset_kwargs\u001b[49m\u001b[38;5;241;43m=\u001b[39;49m\u001b[43mdataset_kwargs\u001b[49m\u001b[43m)\u001b[49m\n\u001b[1;32m    102\u001b[0m write_elem(f, \u001b[38;5;124m\"\u001b[39m\u001b[38;5;124mvar\u001b[39m\u001b[38;5;124m\"\u001b[39m, adata\u001b[38;5;241m.\u001b[39mvar, dataset_kwargs\u001b[38;5;241m=\u001b[39mdataset_kwargs)\n\u001b[1;32m    103\u001b[0m write_elem(f, \u001b[38;5;124m\"\u001b[39m\u001b[38;5;124mobsm\u001b[39m\u001b[38;5;124m\"\u001b[39m, \u001b[38;5;28mdict\u001b[39m(adata\u001b[38;5;241m.\u001b[39mobsm), dataset_kwargs\u001b[38;5;241m=\u001b[39mdataset_kwargs)\n",
      "File \u001b[0;32m/opt/conda/lib/python3.10/site-packages/anndata/_io/specs/registry.py:378\u001b[0m, in \u001b[0;36mwrite_elem\u001b[0;34m(store, k, elem, dataset_kwargs)\u001b[0m\n\u001b[1;32m    354\u001b[0m \u001b[38;5;28;01mdef\u001b[39;00m \u001b[38;5;21mwrite_elem\u001b[39m(\n\u001b[1;32m    355\u001b[0m     store: GroupStorageType,\n\u001b[1;32m    356\u001b[0m     k: \u001b[38;5;28mstr\u001b[39m,\n\u001b[0;32m   (...)\u001b[0m\n\u001b[1;32m    359\u001b[0m     dataset_kwargs: Mapping[\u001b[38;5;28mstr\u001b[39m, Any] \u001b[38;5;241m=\u001b[39m MappingProxyType({}),\n\u001b[1;32m    360\u001b[0m ) \u001b[38;5;241m-\u001b[39m\u001b[38;5;241m>\u001b[39m \u001b[38;5;28;01mNone\u001b[39;00m:\n\u001b[1;32m    361\u001b[0m \u001b[38;5;250m    \u001b[39m\u001b[38;5;124;03m\"\"\"\u001b[39;00m\n\u001b[1;32m    362\u001b[0m \u001b[38;5;124;03m    Write an element to a storage group using anndata encoding.\u001b[39;00m\n\u001b[1;32m    363\u001b[0m \n\u001b[0;32m   (...)\u001b[0m\n\u001b[1;32m    376\u001b[0m \u001b[38;5;124;03m        E.g. for zarr this would be `chunks`, `compressor`.\u001b[39;00m\n\u001b[1;32m    377\u001b[0m \u001b[38;5;124;03m    \"\"\"\u001b[39;00m\n\u001b[0;32m--> 378\u001b[0m     \u001b[43mWriter\u001b[49m\u001b[43m(\u001b[49m\u001b[43m_REGISTRY\u001b[49m\u001b[43m)\u001b[49m\u001b[38;5;241;43m.\u001b[39;49m\u001b[43mwrite_elem\u001b[49m\u001b[43m(\u001b[49m\u001b[43mstore\u001b[49m\u001b[43m,\u001b[49m\u001b[43m \u001b[49m\u001b[43mk\u001b[49m\u001b[43m,\u001b[49m\u001b[43m \u001b[49m\u001b[43melem\u001b[49m\u001b[43m,\u001b[49m\u001b[43m \u001b[49m\u001b[43mdataset_kwargs\u001b[49m\u001b[38;5;241;43m=\u001b[39;49m\u001b[43mdataset_kwargs\u001b[49m\u001b[43m)\u001b[49m\n",
      "File \u001b[0;32m/opt/conda/lib/python3.10/site-packages/anndata/_io/utils.py:247\u001b[0m, in \u001b[0;36mreport_write_key_on_error.<locals>.func_wrapper\u001b[0;34m(*args, **kwargs)\u001b[0m\n\u001b[1;32m    245\u001b[0m     \u001b[38;5;28;01mraise\u001b[39;00m \u001b[38;5;167;01mValueError\u001b[39;00m(\u001b[38;5;124m\"\u001b[39m\u001b[38;5;124mNo element found in args.\u001b[39m\u001b[38;5;124m\"\u001b[39m)\n\u001b[1;32m    246\u001b[0m \u001b[38;5;28;01mtry\u001b[39;00m:\n\u001b[0;32m--> 247\u001b[0m     \u001b[38;5;28;01mreturn\u001b[39;00m \u001b[43mfunc\u001b[49m\u001b[43m(\u001b[49m\u001b[38;5;241;43m*\u001b[39;49m\u001b[43margs\u001b[49m\u001b[43m,\u001b[49m\u001b[43m \u001b[49m\u001b[38;5;241;43m*\u001b[39;49m\u001b[38;5;241;43m*\u001b[39;49m\u001b[43mkwargs\u001b[49m\u001b[43m)\u001b[49m\n\u001b[1;32m    248\u001b[0m \u001b[38;5;28;01mexcept\u001b[39;00m \u001b[38;5;167;01mException\u001b[39;00m \u001b[38;5;28;01mas\u001b[39;00m e:\n\u001b[1;32m    249\u001b[0m     path \u001b[38;5;241m=\u001b[39m _get_display_path(store)\n",
      "File \u001b[0;32m/opt/conda/lib/python3.10/site-packages/anndata/_io/specs/registry.py:328\u001b[0m, in \u001b[0;36mWriter.write_elem\u001b[0;34m(self, store, k, elem, dataset_kwargs, modifiers)\u001b[0m\n\u001b[1;32m    325\u001b[0m write_func \u001b[38;5;241m=\u001b[39m \u001b[38;5;28mself\u001b[39m\u001b[38;5;241m.\u001b[39mfind_write_func(dest_type, elem, modifiers)\n\u001b[1;32m    327\u001b[0m \u001b[38;5;28;01mif\u001b[39;00m \u001b[38;5;28mself\u001b[39m\u001b[38;5;241m.\u001b[39mcallback \u001b[38;5;129;01mis\u001b[39;00m \u001b[38;5;28;01mNone\u001b[39;00m:\n\u001b[0;32m--> 328\u001b[0m     \u001b[38;5;28;01mreturn\u001b[39;00m \u001b[43mwrite_func\u001b[49m\u001b[43m(\u001b[49m\u001b[43mstore\u001b[49m\u001b[43m,\u001b[49m\u001b[43m \u001b[49m\u001b[43mk\u001b[49m\u001b[43m,\u001b[49m\u001b[43m \u001b[49m\u001b[43melem\u001b[49m\u001b[43m,\u001b[49m\u001b[43m \u001b[49m\u001b[43mdataset_kwargs\u001b[49m\u001b[38;5;241;43m=\u001b[39;49m\u001b[43mdataset_kwargs\u001b[49m\u001b[43m)\u001b[49m\n\u001b[1;32m    329\u001b[0m \u001b[38;5;28;01mreturn\u001b[39;00m \u001b[38;5;28mself\u001b[39m\u001b[38;5;241m.\u001b[39mcallback(\n\u001b[1;32m    330\u001b[0m     write_func,\n\u001b[1;32m    331\u001b[0m     store,\n\u001b[0;32m   (...)\u001b[0m\n\u001b[1;32m    335\u001b[0m     iospec\u001b[38;5;241m=\u001b[39m\u001b[38;5;28mself\u001b[39m\u001b[38;5;241m.\u001b[39mregistry\u001b[38;5;241m.\u001b[39mget_spec(elem),\n\u001b[1;32m    336\u001b[0m )\n",
      "File \u001b[0;32m/opt/conda/lib/python3.10/site-packages/anndata/_io/specs/registry.py:71\u001b[0m, in \u001b[0;36mwrite_spec.<locals>.decorator.<locals>.wrapper\u001b[0;34m(g, k, *args, **kwargs)\u001b[0m\n\u001b[1;32m     69\u001b[0m \u001b[38;5;129m@wraps\u001b[39m(func)\n\u001b[1;32m     70\u001b[0m \u001b[38;5;28;01mdef\u001b[39;00m \u001b[38;5;21mwrapper\u001b[39m(g: GroupStorageType, k: \u001b[38;5;28mstr\u001b[39m, \u001b[38;5;241m*\u001b[39margs, \u001b[38;5;241m*\u001b[39m\u001b[38;5;241m*\u001b[39mkwargs):\n\u001b[0;32m---> 71\u001b[0m     result \u001b[38;5;241m=\u001b[39m \u001b[43mfunc\u001b[49m\u001b[43m(\u001b[49m\u001b[43mg\u001b[49m\u001b[43m,\u001b[49m\u001b[43m \u001b[49m\u001b[43mk\u001b[49m\u001b[43m,\u001b[49m\u001b[43m \u001b[49m\u001b[38;5;241;43m*\u001b[39;49m\u001b[43margs\u001b[49m\u001b[43m,\u001b[49m\u001b[43m \u001b[49m\u001b[38;5;241;43m*\u001b[39;49m\u001b[38;5;241;43m*\u001b[39;49m\u001b[43mkwargs\u001b[49m\u001b[43m)\u001b[49m\n\u001b[1;32m     72\u001b[0m     g[k]\u001b[38;5;241m.\u001b[39mattrs\u001b[38;5;241m.\u001b[39msetdefault(\u001b[38;5;124m\"\u001b[39m\u001b[38;5;124mencoding-type\u001b[39m\u001b[38;5;124m\"\u001b[39m, spec\u001b[38;5;241m.\u001b[39mencoding_type)\n\u001b[1;32m     73\u001b[0m     g[k]\u001b[38;5;241m.\u001b[39mattrs\u001b[38;5;241m.\u001b[39msetdefault(\u001b[38;5;124m\"\u001b[39m\u001b[38;5;124mencoding-version\u001b[39m\u001b[38;5;124m\"\u001b[39m, spec\u001b[38;5;241m.\u001b[39mencoding_version)\n",
      "File \u001b[0;32m/opt/conda/lib/python3.10/site-packages/anndata/_io/specs/methods.py:830\u001b[0m, in \u001b[0;36mwrite_dataframe\u001b[0;34m(f, key, df, _writer, dataset_kwargs)\u001b[0m\n\u001b[1;32m    825\u001b[0m _writer\u001b[38;5;241m.\u001b[39mwrite_elem(\n\u001b[1;32m    826\u001b[0m     group, index_name, df\u001b[38;5;241m.\u001b[39mindex\u001b[38;5;241m.\u001b[39m_values, dataset_kwargs\u001b[38;5;241m=\u001b[39mdataset_kwargs\n\u001b[1;32m    827\u001b[0m )\n\u001b[1;32m    828\u001b[0m \u001b[38;5;28;01mfor\u001b[39;00m colname, series \u001b[38;5;129;01min\u001b[39;00m df\u001b[38;5;241m.\u001b[39mitems():\n\u001b[1;32m    829\u001b[0m     \u001b[38;5;66;03m# TODO: this should write the \"true\" representation of the series (i.e. the underlying array or ndarray depending)\u001b[39;00m\n\u001b[0;32m--> 830\u001b[0m     \u001b[43m_writer\u001b[49m\u001b[38;5;241;43m.\u001b[39;49m\u001b[43mwrite_elem\u001b[49m\u001b[43m(\u001b[49m\n\u001b[1;32m    831\u001b[0m \u001b[43m        \u001b[49m\u001b[43mgroup\u001b[49m\u001b[43m,\u001b[49m\u001b[43m \u001b[49m\u001b[43mcolname\u001b[49m\u001b[43m,\u001b[49m\u001b[43m \u001b[49m\u001b[43mseries\u001b[49m\u001b[38;5;241;43m.\u001b[39;49m\u001b[43m_values\u001b[49m\u001b[43m,\u001b[49m\u001b[43m \u001b[49m\u001b[43mdataset_kwargs\u001b[49m\u001b[38;5;241;43m=\u001b[39;49m\u001b[43mdataset_kwargs\u001b[49m\n\u001b[1;32m    832\u001b[0m \u001b[43m    \u001b[49m\u001b[43m)\u001b[49m\n",
      "File \u001b[0;32m/opt/conda/lib/python3.10/site-packages/anndata/_io/utils.py:247\u001b[0m, in \u001b[0;36mreport_write_key_on_error.<locals>.func_wrapper\u001b[0;34m(*args, **kwargs)\u001b[0m\n\u001b[1;32m    245\u001b[0m     \u001b[38;5;28;01mraise\u001b[39;00m \u001b[38;5;167;01mValueError\u001b[39;00m(\u001b[38;5;124m\"\u001b[39m\u001b[38;5;124mNo element found in args.\u001b[39m\u001b[38;5;124m\"\u001b[39m)\n\u001b[1;32m    246\u001b[0m \u001b[38;5;28;01mtry\u001b[39;00m:\n\u001b[0;32m--> 247\u001b[0m     \u001b[38;5;28;01mreturn\u001b[39;00m \u001b[43mfunc\u001b[49m\u001b[43m(\u001b[49m\u001b[38;5;241;43m*\u001b[39;49m\u001b[43margs\u001b[49m\u001b[43m,\u001b[49m\u001b[43m \u001b[49m\u001b[38;5;241;43m*\u001b[39;49m\u001b[38;5;241;43m*\u001b[39;49m\u001b[43mkwargs\u001b[49m\u001b[43m)\u001b[49m\n\u001b[1;32m    248\u001b[0m \u001b[38;5;28;01mexcept\u001b[39;00m \u001b[38;5;167;01mException\u001b[39;00m \u001b[38;5;28;01mas\u001b[39;00m e:\n\u001b[1;32m    249\u001b[0m     path \u001b[38;5;241m=\u001b[39m _get_display_path(store)\n",
      "File \u001b[0;32m/opt/conda/lib/python3.10/site-packages/anndata/_io/specs/registry.py:318\u001b[0m, in \u001b[0;36mWriter.write_elem\u001b[0;34m(self, store, k, elem, dataset_kwargs, modifiers)\u001b[0m\n\u001b[1;32m    316\u001b[0m \u001b[38;5;66;03m# Normalize k to absolute path\u001b[39;00m\n\u001b[1;32m    317\u001b[0m \u001b[38;5;28;01mif\u001b[39;00m \u001b[38;5;129;01mnot\u001b[39;00m PurePosixPath(k)\u001b[38;5;241m.\u001b[39mis_absolute():\n\u001b[0;32m--> 318\u001b[0m     k \u001b[38;5;241m=\u001b[39m \u001b[38;5;28mstr\u001b[39m(\u001b[43mPurePosixPath\u001b[49m\u001b[43m(\u001b[49m\u001b[43mstore\u001b[49m\u001b[38;5;241;43m.\u001b[39;49m\u001b[43mname\u001b[49m\u001b[43m)\u001b[49m \u001b[38;5;241m/\u001b[39m k)\n\u001b[1;32m    320\u001b[0m \u001b[38;5;28;01mif\u001b[39;00m k \u001b[38;5;241m==\u001b[39m \u001b[38;5;124m\"\u001b[39m\u001b[38;5;124m/\u001b[39m\u001b[38;5;124m\"\u001b[39m:\n\u001b[1;32m    321\u001b[0m     store\u001b[38;5;241m.\u001b[39mclear()\n",
      "File \u001b[0;32m/opt/conda/lib/python3.10/pathlib.py:562\u001b[0m, in \u001b[0;36mPurePath.__new__\u001b[0;34m(cls, *args)\u001b[0m\n\u001b[1;32m    560\u001b[0m \u001b[38;5;28;01mif\u001b[39;00m \u001b[38;5;28mcls\u001b[39m \u001b[38;5;129;01mis\u001b[39;00m PurePath:\n\u001b[1;32m    561\u001b[0m     \u001b[38;5;28mcls\u001b[39m \u001b[38;5;241m=\u001b[39m PureWindowsPath \u001b[38;5;28;01mif\u001b[39;00m os\u001b[38;5;241m.\u001b[39mname \u001b[38;5;241m==\u001b[39m \u001b[38;5;124m'\u001b[39m\u001b[38;5;124mnt\u001b[39m\u001b[38;5;124m'\u001b[39m \u001b[38;5;28;01melse\u001b[39;00m PurePosixPath\n\u001b[0;32m--> 562\u001b[0m \u001b[38;5;28;01mreturn\u001b[39;00m \u001b[38;5;28;43mcls\u001b[39;49m\u001b[38;5;241;43m.\u001b[39;49m\u001b[43m_from_parts\u001b[49m\u001b[43m(\u001b[49m\u001b[43margs\u001b[49m\u001b[43m)\u001b[49m\n",
      "File \u001b[0;32m/opt/conda/lib/python3.10/pathlib.py:594\u001b[0m, in \u001b[0;36mPurePath._from_parts\u001b[0;34m(cls, args)\u001b[0m\n\u001b[1;32m    589\u001b[0m \u001b[38;5;129m@classmethod\u001b[39m\n\u001b[1;32m    590\u001b[0m \u001b[38;5;28;01mdef\u001b[39;00m \u001b[38;5;21m_from_parts\u001b[39m(\u001b[38;5;28mcls\u001b[39m, args):\n\u001b[1;32m    591\u001b[0m     \u001b[38;5;66;03m# We need to call _parse_args on the instance, so as to get the\u001b[39;00m\n\u001b[1;32m    592\u001b[0m     \u001b[38;5;66;03m# right flavour.\u001b[39;00m\n\u001b[1;32m    593\u001b[0m     \u001b[38;5;28mself\u001b[39m \u001b[38;5;241m=\u001b[39m \u001b[38;5;28mobject\u001b[39m\u001b[38;5;241m.\u001b[39m\u001b[38;5;21m__new__\u001b[39m(\u001b[38;5;28mcls\u001b[39m)\n\u001b[0;32m--> 594\u001b[0m     drv, root, parts \u001b[38;5;241m=\u001b[39m \u001b[38;5;28;43mself\u001b[39;49m\u001b[38;5;241;43m.\u001b[39;49m\u001b[43m_parse_args\u001b[49m\u001b[43m(\u001b[49m\u001b[43margs\u001b[49m\u001b[43m)\u001b[49m\n\u001b[1;32m    595\u001b[0m     \u001b[38;5;28mself\u001b[39m\u001b[38;5;241m.\u001b[39m_drv \u001b[38;5;241m=\u001b[39m drv\n\u001b[1;32m    596\u001b[0m     \u001b[38;5;28mself\u001b[39m\u001b[38;5;241m.\u001b[39m_root \u001b[38;5;241m=\u001b[39m root\n",
      "File \u001b[0;32m/opt/conda/lib/python3.10/pathlib.py:578\u001b[0m, in \u001b[0;36mPurePath._parse_args\u001b[0;34m(cls, args)\u001b[0m\n\u001b[1;32m    576\u001b[0m     parts \u001b[38;5;241m+\u001b[39m\u001b[38;5;241m=\u001b[39m a\u001b[38;5;241m.\u001b[39m_parts\n\u001b[1;32m    577\u001b[0m \u001b[38;5;28;01melse\u001b[39;00m:\n\u001b[0;32m--> 578\u001b[0m     a \u001b[38;5;241m=\u001b[39m \u001b[43mos\u001b[49m\u001b[38;5;241;43m.\u001b[39;49m\u001b[43mfspath\u001b[49m\u001b[43m(\u001b[49m\u001b[43ma\u001b[49m\u001b[43m)\u001b[49m\n\u001b[1;32m    579\u001b[0m     \u001b[38;5;28;01mif\u001b[39;00m \u001b[38;5;28misinstance\u001b[39m(a, \u001b[38;5;28mstr\u001b[39m):\n\u001b[1;32m    580\u001b[0m         \u001b[38;5;66;03m# Force-cast str subclasses to str (issue #21127)\u001b[39;00m\n\u001b[1;32m    581\u001b[0m         parts\u001b[38;5;241m.\u001b[39mappend(\u001b[38;5;28mstr\u001b[39m(a))\n",
      "\u001b[0;31mTypeError\u001b[0m: expected str, bytes or os.PathLike object, not NoneType"
     ]
    }
   ],
   "source": [
    "adata.write('./emd_not_annotated.h5ad')"
   ]
  },
  {
   "cell_type": "code",
   "execution_count": null,
   "id": "f8b691f4-d9b9-430b-9334-c45969ab5bd8",
   "metadata": {},
   "outputs": [],
   "source": [
    "adata_old = adata.copy()\n",
    "new_vars=['CollagenI', 'Ki-67', 'aSMA', 'CCR4', 'CD14', 'TIM-3', 'CD16', 'CD163',\n",
    "       'CD11b', 'PDL1', 'CD31', 'CD45', 'BCMA', 'CD11c', 'FoxP3', 'CD4',\n",
    "       'Granzyme_K', 'CD68', 'CD117', 'CD20', 'CD8', 'CCR6', 'CD56',\n",
    "       'PD-1', 'CD138', 'Granzyme_B', 'CD127', 'pSTAT1', 'CD3', 'CD27', 'TIGIT',\n",
    "       'CCR7', 'HLA-DR', 'CD45RO', 'Histone_H3', 'ICSK1', 'ICSK2']\n",
    "\n",
    "adata.var_names=new_vars"
   ]
  },
  {
   "cell_type": "code",
   "execution_count": null,
   "id": "026d3926-60e6-4a31-84dc-65d2898bba8c",
   "metadata": {},
   "outputs": [],
   "source": [
    "import pickle\n",
    "\n",
    "with open(\"../data/non_denoised/models/XGB_classifier.pkl\", \"rb\") as f:\n",
    "    model = pickle.load(f)\n",
    "with open(\"../data/non_denoised/models/XGB_classifier_label-encoder.pkl\", \"rb\") as f:\n",
    "    le = pickle.load(f)\n"
   ]
  },
  {
   "cell_type": "code",
   "execution_count": null,
   "id": "71251014-3a5a-4eba-9a93-8ee25870ac47",
   "metadata": {},
   "outputs": [],
   "source": [
    "features=list(model.feature_names_in_)\n",
    "print([f for f in features if f not in new_vars])"
   ]
  },
  {
   "cell_type": "code",
   "execution_count": null,
   "id": "ead20138-1658-45d8-8823-3a9eb490989c",
   "metadata": {},
   "outputs": [],
   "source": [
    "df=sc.get.obs_df(adata, features, layer='exprs')\n",
    "df.head()"
   ]
  },
  {
   "cell_type": "code",
   "execution_count": null,
   "id": "933a6401-0c26-4a8b-b799-83503b2f9ef8",
   "metadata": {},
   "outputs": [],
   "source": [
    "classes=model.predict(df)"
   ]
  },
  {
   "cell_type": "code",
   "execution_count": null,
   "id": "c8c419b2-c46b-4e93-b5a2-4112404844d5",
   "metadata": {},
   "outputs": [],
   "source": [
    "cell_labels = pd.DataFrame(le.inverse_transform(classes))\n",
    "cell_labels.index = df.index\n",
    "cell_labels.columns = ['major_celltype']"
   ]
  },
  {
   "cell_type": "code",
   "execution_count": null,
   "id": "b2b3cc68-01c8-4b90-92f8-5c370e8896a6",
   "metadata": {},
   "outputs": [],
   "source": [
    "props = pd.DataFrame(cell_labels.value_counts())\n",
    "props = props.reset_index()"
   ]
  },
  {
   "cell_type": "code",
   "execution_count": null,
   "id": "3de9ba7f-b725-40fa-b689-44d852b2309a",
   "metadata": {},
   "outputs": [],
   "source": [
    "plt.figure()\n",
    "sns.barplot(data=props, x=props['major_celltype'], y=props['count'])\n",
    "plt.xticks(rotation=45, ha='right')\n",
    "plt.title('Size different cell clusters')\n",
    "plt.show()"
   ]
  },
  {
   "cell_type": "code",
   "execution_count": null,
   "id": "796c7eef-7242-46bd-9aac-50e12593977e",
   "metadata": {},
   "outputs": [],
   "source": [
    "sns.clustermap(pd.concat([df,cell_labels],axis=1).groupby(by='major_celltype').mean().T,standard_scale=1)"
   ]
  },
  {
   "cell_type": "markdown",
   "id": "709533e6-b13a-4b76-b1ff-4d597960e08f",
   "metadata": {},
   "source": [
    "# Refine Clustering\n",
    "\n",
    "Similarly to the 2D dta we are going to refine the clustering using GMM\n",
    "\n",
    "## Unclassified"
   ]
  },
  {
   "cell_type": "code",
   "execution_count": null,
   "id": "29b0e4fe-488b-40d8-a32c-74575fb836b2",
   "metadata": {},
   "outputs": [],
   "source": [
    "adata.obs['major_pixel_type'] = cell_labels"
   ]
  },
  {
   "cell_type": "code",
   "execution_count": null,
   "id": "7c2a203b-9e81-4571-a372-1e90df68f840",
   "metadata": {},
   "outputs": [],
   "source": [
    "def get_df_oi(adata,features_oi,pixel_type,column='major_pixel_type'):\n",
    "    df=sc.get.obs_df(adata, keys=features_oi+[column],layer='exprs')\n",
    "    df=df[df[column]==pixel_type]\n",
    "    return df"
   ]
  },
  {
   "cell_type": "code",
   "execution_count": null,
   "id": "a3364939-8691-47fa-a511-ce226ebcccb7",
   "metadata": {},
   "outputs": [],
   "source": [
    "from gmm.gmm import GMMCluster"
   ]
  },
  {
   "cell_type": "code",
   "execution_count": null,
   "id": "5e6dfae1-56cb-42c1-bec6-6a1d4703cc72",
   "metadata": {},
   "outputs": [],
   "source": [
    "n_components_range = range(2, 10)\n",
    "covariance_types = ['full', 'tied', 'diag', 'spherical']\n",
    "features_oi=['CD3','CD20','CD68','CD138','CD56','aSMA']\n",
    "pixel_type='Unclassified'\n",
    "df=get_df_oi(adata,features_oi,pixel_type)[features_oi]\n",
    "mat=df.values"
   ]
  },
  {
   "cell_type": "code",
   "execution_count": null,
   "id": "0f46e2e9-a806-4bf6-bc56-80f5744a1d5a",
   "metadata": {},
   "outputs": [],
   "source": [
    "gmm=GMMCluster.get_best_gmm(mat=mat,\n",
    "                            n_components_range=n_components_range,\n",
    "                            covariance_types=covariance_types,\n",
    "                            plot=True)"
   ]
  },
  {
   "cell_type": "code",
   "execution_count": null,
   "id": "867758f0-0ee9-4353-a858-217432e16d0b",
   "metadata": {},
   "outputs": [],
   "source": [
    "clusters = gmm.predict(mat)\n",
    "means=pd.DataFrame(gmm.means_,columns=features_oi)\n",
    "\n",
    "plt.figure()\n",
    "sns.clustermap(means.T, annot=True,col_cluster=True,figsize=(10, 6))\n",
    "plt.show()"
   ]
  },
  {
   "cell_type": "code",
   "execution_count": null,
   "id": "dc62a4e2-8d4a-4920-b18c-1605fb8e9dd3",
   "metadata": {},
   "outputs": [],
   "source": [
    "map_clusters={0:'Endothelial',\n",
    "              1:'Unclassified',\n",
    "              2:'NK',\n",
    "              3:'Unclassified',\n",
    "              4:'Endothelial',\n",
    "              5:'Myeloma'\n",
    "             }\n",
    "\n",
    "means = means.reset_index()\n",
    "means.index = means['index'].replace(map_clusters)\n",
    "means = means.drop('index',axis=1)\n",
    "plt.figure()\n",
    "sns.clustermap(means.T, annot=True,col_cluster=True,figsize=(10, 6))\n",
    "plt.show()"
   ]
  },
  {
   "cell_type": "code",
   "execution_count": null,
   "id": "2c44699b-f6d0-4ad3-9a1e-bbb23056aab8",
   "metadata": {},
   "outputs": [],
   "source": [
    "clusters_df=pd.DataFrame(clusters,index=df.index)[0].replace(map_clusters)\n",
    "adata.obs.loc[clusters_df.index, 'major_pixel_type'] = clusters_df"
   ]
  },
  {
   "cell_type": "code",
   "execution_count": null,
   "id": "258919b6-b419-45fb-8c41-3e2db73dc239",
   "metadata": {},
   "outputs": [],
   "source": [
    "n_components_range = range(2, 10)\n",
    "covariance_types = ['full', 'tied', 'diag', 'spherical']\n",
    "features_oi=['CD68','CD138','CD56','aSMA']\n",
    "pixel_type='Unclassified'\n",
    "df=get_df_oi(adata,features_oi,pixel_type)[features_oi]\n",
    "mat=df.values"
   ]
  },
  {
   "cell_type": "code",
   "execution_count": null,
   "id": "75ff8edd-cd7a-417d-af6c-7b3703b71856",
   "metadata": {},
   "outputs": [],
   "source": [
    "gmm=GMMCluster.get_best_gmm(mat=mat,\n",
    "                            n_components_range=n_components_range,\n",
    "                            covariance_types=covariance_types,\n",
    "                            plot=False)"
   ]
  },
  {
   "cell_type": "code",
   "execution_count": null,
   "id": "a509835c-d3fc-48d2-886d-cd8960836059",
   "metadata": {},
   "outputs": [],
   "source": [
    "clusters = gmm.predict(mat)\n",
    "means=pd.DataFrame(gmm.means_,columns=features_oi)\n",
    "\n",
    "plt.figure()\n",
    "sns.clustermap(means.T, annot=True,col_cluster=True,figsize=(10, 6))\n",
    "plt.show()"
   ]
  },
  {
   "cell_type": "code",
   "execution_count": null,
   "id": "ace7ad7d-0092-46df-9eab-565f385ea5da",
   "metadata": {},
   "outputs": [],
   "source": [
    "map_clusters={0:'Unclassified',\n",
    "              1:'Unclassified'\n",
    "             }\n",
    "\n",
    "means = means.reset_index()\n",
    "means.index = means['index'].replace(map_clusters)\n",
    "means = means.drop('index',axis=1)\n",
    "plt.figure()\n",
    "sns.clustermap(means.T, annot=True,col_cluster=True,figsize=(10, 6))\n",
    "plt.show()"
   ]
  },
  {
   "cell_type": "code",
   "execution_count": null,
   "id": "58c25107-6527-4bc9-96a4-c8f0c9154af5",
   "metadata": {},
   "outputs": [],
   "source": [
    "clusters_df=pd.DataFrame(clusters,index=df.index)[0].replace(map_clusters)\n",
    "adata.obs.loc[clusters_df.index, 'major_pixel_type'] = clusters_df"
   ]
  },
  {
   "cell_type": "code",
   "execution_count": null,
   "id": "a166faa4-89d0-482b-bf2e-8b90d1a51d55",
   "metadata": {},
   "outputs": [],
   "source": [
    "adata.obs['major_pixel_type'].value_counts().plot.bar()"
   ]
  },
  {
   "cell_type": "markdown",
   "id": "5b8e1721-e57a-438b-8350-d58726363850",
   "metadata": {},
   "source": [
    "## Other myeloid"
   ]
  },
  {
   "cell_type": "code",
   "execution_count": null,
   "id": "34d9b31c-b206-484c-9ee3-09c9790bb831",
   "metadata": {},
   "outputs": [],
   "source": [
    "n_components_range = range(2, 11)\n",
    "covariance_types = ['full', 'tied', 'diag', 'spherical']\n",
    "features_oi=['CD68', 'CD11b']\n",
    "pixel_type='Other myeloid'\n",
    "df=get_df_oi(adata,features_oi,pixel_type)[features_oi]\n",
    "mat=df.values"
   ]
  },
  {
   "cell_type": "code",
   "execution_count": null,
   "id": "7b817b33-a5d9-4443-b21b-f8fc7f926fd6",
   "metadata": {},
   "outputs": [],
   "source": [
    "gmm=GMMCluster.get_best_gmm(mat=mat,\n",
    "                            n_components_range=n_components_range,\n",
    "                            covariance_types=covariance_types,\n",
    "                            plot=False)"
   ]
  },
  {
   "cell_type": "code",
   "execution_count": null,
   "id": "bcd46a8e-b3c5-4edf-ac34-29b1568a89c9",
   "metadata": {},
   "outputs": [],
   "source": [
    "clusters = gmm.predict(mat)\n",
    "means=pd.DataFrame(gmm.means_,columns=features_oi)\n",
    "\n",
    "plt.figure()\n",
    "sns.clustermap(means.T, annot=True,col_cluster=True,figsize=(10, 6))\n",
    "plt.show()"
   ]
  },
  {
   "cell_type": "code",
   "execution_count": null,
   "id": "ac3605ab-57b7-4b8e-8ccf-53accd23ebe7",
   "metadata": {},
   "outputs": [],
   "source": [
    "map_clusters={0:'MDSCs',\n",
    "              1:'MDSCs',\n",
    "              2:'Mono-macro',\n",
    "              3:'MDSCs',\n",
    "              4:'MDSCs',\n",
    "              5:'Mono-macro',\n",
    "              6:'Mono-macro',\n",
    "              7:'Mono-macro'\n",
    "             }\n",
    "\n",
    "means = means.reset_index()\n",
    "means.index = means['index'].replace(map_clusters)\n",
    "means = means.drop('index',axis=1)\n",
    "plt.figure()\n",
    "sns.clustermap(means.T, annot=True,col_cluster=True,figsize=(10, 6))\n",
    "plt.show()"
   ]
  },
  {
   "cell_type": "code",
   "execution_count": null,
   "id": "0479a97d-14c2-4f51-9ac6-0c9ccf169bce",
   "metadata": {},
   "outputs": [],
   "source": [
    "clusters_df=pd.DataFrame(clusters,index=df.index)[0].replace(map_clusters)\n",
    "adata.obs.loc[clusters_df.index, 'major_pixel_type'] = clusters_df"
   ]
  },
  {
   "cell_type": "code",
   "execution_count": null,
   "id": "900bae59-f524-4991-aa20-def1f6751dbc",
   "metadata": {},
   "outputs": [],
   "source": [
    "n_components_range = range(2, 11)\n",
    "covariance_types = ['full', 'tied', 'diag', 'spherical']\n",
    "features_oi=['CD68','CD163','CD14','CD16']\n",
    "pixel_type='Mono-macro'\n",
    "df=get_df_oi(adata,features_oi,pixel_type)[features_oi]\n",
    "mat=df.values"
   ]
  },
  {
   "cell_type": "code",
   "execution_count": null,
   "id": "f33db5b0-da29-4d73-af16-1e4e73d29ce4",
   "metadata": {},
   "outputs": [],
   "source": [
    "gmm=GMMCluster.get_best_gmm(mat=mat,\n",
    "                            n_components_range=n_components_range,\n",
    "                            covariance_types=covariance_types,\n",
    "                            plot=False)"
   ]
  },
  {
   "cell_type": "code",
   "execution_count": null,
   "id": "c077a341-b5cc-4799-8bcb-85bc7fc8102f",
   "metadata": {},
   "outputs": [],
   "source": [
    "clusters = gmm.predict(mat)\n",
    "means=pd.DataFrame(gmm.means_,columns=features_oi)\n",
    "\n",
    "plt.figure()\n",
    "sns.clustermap(means.T, annot=True,col_cluster=True,figsize=(10, 6))\n",
    "plt.show()"
   ]
  },
  {
   "cell_type": "code",
   "execution_count": null,
   "id": "7a1257a8-937b-42ad-b42b-1b824cb1add2",
   "metadata": {},
   "outputs": [],
   "source": [
    "map_clusters={0:'M1-like M$\\\\phi$',\n",
    "              1:'CD16 Monocytes',\n",
    "              2:'CD14 Monocytes',\n",
    "              3:'M1-like M$\\\\phi$',\n",
    "              4:'CD16 Monocytes',\n",
    "              5:'CD16 Monocytes',\n",
    "              6:'M1-like M$\\\\phi$',\n",
    "              7:'CD14 Monocytes',\n",
    "              8:'M2-like M$\\\\phi$'\n",
    "             }\n",
    "\n",
    "means = means.reset_index()\n",
    "means.index = means['index'].replace(map_clusters)\n",
    "means = means.drop('index',axis=1)\n",
    "plt.figure()\n",
    "sns.clustermap(means.T, annot=True,col_cluster=True,figsize=(10, 6))\n",
    "plt.show()"
   ]
  },
  {
   "cell_type": "code",
   "execution_count": null,
   "id": "2e266052-06ed-45e2-b384-f6b2b39b0e81",
   "metadata": {},
   "outputs": [],
   "source": [
    "clusters_df=pd.DataFrame(clusters,index=df.index)[0].replace(map_clusters)\n",
    "adata.obs.loc[clusters_df.index, 'major_pixel_type'] = clusters_df"
   ]
  },
  {
   "cell_type": "code",
   "execution_count": null,
   "id": "75814af2-d8d1-421f-92aa-63fc86bdb684",
   "metadata": {},
   "outputs": [],
   "source": [
    "n_components_range = range(2, 11)\n",
    "covariance_types = ['full', 'tied', 'diag', 'spherical']\n",
    "features_oi=['CD14','CD16']\n",
    "pixel_type='Monocytes'\n",
    "df=get_df_oi(adata,features_oi,pixel_type)[features_oi]\n",
    "mat=df.values"
   ]
  },
  {
   "cell_type": "code",
   "execution_count": null,
   "id": "3daa04ec-f5a1-4fba-924a-9652ec1f62b0",
   "metadata": {},
   "outputs": [],
   "source": [
    "gmm=GMMCluster.get_best_gmm(mat=mat,\n",
    "                            n_components_range=n_components_range,\n",
    "                            covariance_types=covariance_types,\n",
    "                            plot=False)"
   ]
  },
  {
   "cell_type": "code",
   "execution_count": null,
   "id": "35053816-285d-4889-9e5d-0b375877250a",
   "metadata": {},
   "outputs": [],
   "source": [
    "clusters = gmm.predict(mat)\n",
    "means=pd.DataFrame(gmm.means_,columns=features_oi)\n",
    "\n",
    "plt.figure()\n",
    "sns.clustermap(means.T, annot=True,col_cluster=True,figsize=(10, 6))\n",
    "plt.show()"
   ]
  },
  {
   "cell_type": "code",
   "execution_count": null,
   "id": "f21cfcf2-5097-48ed-bd99-49200433e85c",
   "metadata": {},
   "outputs": [],
   "source": [
    "map_clusters={0:'Unclassified',\n",
    "              1:'CD16 Monocytes',\n",
    "              2:'MDSCs'\n",
    "             }\n",
    "\n",
    "means = means.reset_index()\n",
    "means.index = means['index'].replace(map_clusters)\n",
    "means = means.drop('index',axis=1)\n",
    "plt.figure()\n",
    "sns.clustermap(means.T, annot=True,col_cluster=True,figsize=(10, 6))\n",
    "plt.show()"
   ]
  },
  {
   "cell_type": "code",
   "execution_count": null,
   "id": "c8e80237-cdf4-4307-82a5-aad342290144",
   "metadata": {},
   "outputs": [],
   "source": [
    "clusters_df=pd.DataFrame(clusters,index=df.index)[0].replace(map_clusters)\n",
    "adata.obs.loc[clusters_df.index, 'major_pixel_type'] = clusters_df"
   ]
  },
  {
   "cell_type": "code",
   "execution_count": null,
   "id": "ec427c4c-5b8b-411e-8751-e25df50bbac7",
   "metadata": {},
   "outputs": [],
   "source": [
    "n_components_range = range(2, 11)\n",
    "covariance_types = ['full', 'tied', 'diag', 'spherical']\n",
    "features_oi=['CD11b','CD11c','HLA-DR']\n",
    "pixel_type='MDSCs'\n",
    "df=get_df_oi(adata,features_oi,pixel_type)[features_oi]\n",
    "mat=df.values"
   ]
  },
  {
   "cell_type": "code",
   "execution_count": null,
   "id": "a7dd6c47-e4f0-4977-b9f2-2b431d9406a2",
   "metadata": {},
   "outputs": [],
   "source": [
    "gmm=GMMCluster.get_best_gmm(mat=mat,\n",
    "                            n_components_range=n_components_range,\n",
    "                            covariance_types=covariance_types,\n",
    "                            plot=False)"
   ]
  },
  {
   "cell_type": "code",
   "execution_count": null,
   "id": "84bc83b6-17db-488f-a99c-952573ae95c5",
   "metadata": {},
   "outputs": [],
   "source": [
    "clusters = gmm.predict(mat)\n",
    "means=pd.DataFrame(gmm.means_,columns=features_oi)\n",
    "\n",
    "plt.figure()\n",
    "sns.clustermap(means.T, annot=True,col_cluster=True,figsize=(10, 6))\n",
    "plt.show()"
   ]
  },
  {
   "cell_type": "code",
   "execution_count": null,
   "id": "91ccd6aa-603a-4d2b-b4c8-1cb4cd457353",
   "metadata": {},
   "outputs": [],
   "source": [
    "map_clusters={0:'MDSCs',\n",
    "              1:'MDSCs',\n",
    "              2:'MDSCs',\n",
    "              3:'MoDC',\n",
    "              4:'MoDC',\n",
    "              5:'MoDC'\n",
    "             }\n",
    "\n",
    "means = means.reset_index()\n",
    "means.index = means['index'].replace(map_clusters)\n",
    "means = means.drop('index',axis=1)\n",
    "plt.figure()\n",
    "sns.clustermap(means.T, annot=True,col_cluster=True,figsize=(10, 6))\n",
    "plt.show()"
   ]
  },
  {
   "cell_type": "code",
   "execution_count": null,
   "id": "3f3f92b2-c7f7-400a-a923-cd6ab3888049",
   "metadata": {},
   "outputs": [],
   "source": [
    "clusters_df=pd.DataFrame(clusters,index=df.index)[0].replace(map_clusters)\n",
    "adata.obs.loc[clusters_df.index, 'major_pixel_type'] = clusters_df"
   ]
  },
  {
   "cell_type": "code",
   "execution_count": null,
   "id": "444d8337-2b8b-48dd-96ab-a4487e1c1001",
   "metadata": {},
   "outputs": [],
   "source": [
    "adata.obs['major_pixel_type'].value_counts().plot.bar()"
   ]
  },
  {
   "cell_type": "markdown",
   "id": "62b29684-3042-4480-b8db-e5aebe9a60cc",
   "metadata": {},
   "source": [
    "## Plasma"
   ]
  },
  {
   "cell_type": "code",
   "execution_count": null,
   "id": "7176f522-d170-460e-960d-6e76d5011606",
   "metadata": {},
   "outputs": [],
   "source": [
    "n_components_range = range(2, 11)\n",
    "covariance_types = ['full', 'tied', 'diag', 'spherical']\n",
    "features_oi=['CD20','CD27','CD138']\n",
    "pixel_type='Plasma'\n",
    "df=get_df_oi(adata,features_oi,pixel_type)[features_oi]\n",
    "mat=df.values"
   ]
  },
  {
   "cell_type": "code",
   "execution_count": null,
   "id": "ace01fed-47c9-4051-b91e-f2ac4e8bf40c",
   "metadata": {},
   "outputs": [],
   "source": [
    "gmm=GMMCluster.get_best_gmm(mat=mat,\n",
    "                            n_components_range=n_components_range,\n",
    "                            covariance_types=covariance_types,\n",
    "                            plot=False)"
   ]
  },
  {
   "cell_type": "code",
   "execution_count": null,
   "id": "9db66ac8-d153-441c-8b39-7ea5fc593252",
   "metadata": {},
   "outputs": [],
   "source": [
    "clusters = gmm.predict(mat)\n",
    "means=pd.DataFrame(gmm.means_,columns=features_oi)\n",
    "\n",
    "plt.figure()\n",
    "sns.clustermap(means.T, annot=True,col_cluster=True,figsize=(10, 6))\n",
    "plt.show()"
   ]
  },
  {
   "cell_type": "code",
   "execution_count": null,
   "id": "6cd0937a-ec88-4851-988a-f993b1f9d698",
   "metadata": {},
   "outputs": [],
   "source": [
    "map_clusters={0:'B',\n",
    "              1:'Myeloma',\n",
    "              2:'Myeloma',\n",
    "              3:'B',\n",
    "              4:'B',\n",
    "              5:'Myeloma'\n",
    "            \n",
    "             }\n",
    "\n",
    "means = means.reset_index()\n",
    "means.index = means['index'].replace(map_clusters)\n",
    "means = means.drop('index',axis=1)\n",
    "plt.figure()\n",
    "sns.clustermap(means.T, annot=True,col_cluster=True,figsize=(10, 6))\n",
    "plt.show()"
   ]
  },
  {
   "cell_type": "code",
   "execution_count": null,
   "id": "d969d2ec-8729-43ba-a665-7fd30b17373a",
   "metadata": {},
   "outputs": [],
   "source": [
    "clusters_df=pd.DataFrame(clusters,index=df.index)[0].replace(map_clusters)\n",
    "adata.obs.loc[clusters_df.index, 'major_pixel_type'] = clusters_df"
   ]
  },
  {
   "cell_type": "code",
   "execution_count": null,
   "id": "549d973c-55d0-4e5b-9311-deacbf42895c",
   "metadata": {},
   "outputs": [],
   "source": [
    "adata.obs['major_pixel_type'].value_counts().plot.bar()"
   ]
  },
  {
   "cell_type": "markdown",
   "id": "54326ce5-dd2e-40b6-9688-a13b4427ea0d",
   "metadata": {},
   "source": [
    "## Unclassified"
   ]
  },
  {
   "cell_type": "code",
   "execution_count": null,
   "id": "53dfb7a8-3628-42b4-9de6-5f38d2a197e4",
   "metadata": {},
   "outputs": [],
   "source": [
    "n_components_range = range(2, 11)\n",
    "covariance_types = ['full', 'tied', 'diag', 'spherical']\n",
    "features_oi=['CD20','CD3','CD68','aSMA']\n",
    "pixel_type='Unclassified'\n",
    "df=get_df_oi(adata,features_oi,pixel_type)[features_oi]\n",
    "mat=df.values"
   ]
  },
  {
   "cell_type": "code",
   "execution_count": null,
   "id": "d7472b33-7d90-4ef4-9239-315187e8ed62",
   "metadata": {},
   "outputs": [],
   "source": [
    "gmm=GMMCluster.get_best_gmm(mat=mat,\n",
    "                            n_components_range=n_components_range,\n",
    "                            covariance_types=covariance_types,\n",
    "                            plot=False)"
   ]
  },
  {
   "cell_type": "code",
   "execution_count": null,
   "id": "2af0ce9c-7963-41bb-b3a8-329862172c24",
   "metadata": {},
   "outputs": [],
   "source": [
    "clusters = gmm.predict(mat)\n",
    "means=pd.DataFrame(gmm.means_,columns=features_oi)\n",
    "\n",
    "plt.figure()\n",
    "sns.clustermap(means.T, annot=True,col_cluster=True,figsize=(10, 6))\n",
    "plt.show()"
   ]
  },
  {
   "cell_type": "code",
   "execution_count": null,
   "id": "76002938-b92b-497b-a70c-2cc8181d638e",
   "metadata": {},
   "outputs": [],
   "source": [
    "map_clusters={0:'Unclassified',\n",
    "              1:'Unclassified',\n",
    "              2:'Unclassified',\n",
    "              3:'Unclassified',\n",
    "              4:'Unclassified',\n",
    "              5:'Unclassified'\n",
    "             }\n",
    "\n",
    "means = means.reset_index()\n",
    "means.index = means['index'].replace(map_clusters)\n",
    "means = means.drop('index',axis=1)\n",
    "plt.figure()\n",
    "sns.clustermap(means.T, annot=True,col_cluster=True,figsize=(10, 6))\n",
    "plt.show()"
   ]
  },
  {
   "cell_type": "code",
   "execution_count": null,
   "id": "acb632c5-7e13-4f1a-800a-b488c08e6bb7",
   "metadata": {},
   "outputs": [],
   "source": [
    "clusters_df=pd.DataFrame(clusters,index=df.index)[0].replace(map_clusters)\n",
    "adata.obs.loc[clusters_df.index, 'major_pixel_type'] = clusters_df"
   ]
  },
  {
   "cell_type": "markdown",
   "id": "aa71b309-7309-455f-8375-3b019a70e733",
   "metadata": {},
   "source": [
    "## T"
   ]
  },
  {
   "cell_type": "code",
   "execution_count": null,
   "id": "117642e2-5f7b-4fe3-8f47-cee92de5b4e3",
   "metadata": {},
   "outputs": [],
   "source": [
    "n_components_range = range(2, 11)\n",
    "covariance_types = ['full', 'tied', 'diag', 'spherical']\n",
    "features_oi=['CD4','CD8','FoxP3','Granzyme_B','PD-1','TIM-3']\n",
    "pixel_type='T'\n",
    "df=get_df_oi(adata,features_oi,pixel_type)[features_oi]\n",
    "mat=df.values"
   ]
  },
  {
   "cell_type": "code",
   "execution_count": null,
   "id": "2a722c2b-5dcb-4d1b-b2ec-b1eb33d51cdf",
   "metadata": {},
   "outputs": [],
   "source": [
    "gmm=GMMCluster.get_best_gmm(mat=mat,\n",
    "                            n_components_range=n_components_range,\n",
    "                            covariance_types=covariance_types,\n",
    "                            plot=False)"
   ]
  },
  {
   "cell_type": "code",
   "execution_count": null,
   "id": "93c04413-bf75-410c-89f9-a1bbb3ceaf6b",
   "metadata": {},
   "outputs": [],
   "source": [
    "clusters = gmm.predict(mat)\n",
    "means=pd.DataFrame(gmm.means_,columns=features_oi)\n",
    "\n",
    "plt.figure()\n",
    "sns.clustermap(means.T, annot=True,col_cluster=True,figsize=(10, 6))\n",
    "plt.show()"
   ]
  },
  {
   "cell_type": "code",
   "execution_count": null,
   "id": "26c27e8f-71e4-4865-a635-617c03550d65",
   "metadata": {},
   "outputs": [],
   "source": [
    "map_clusters={0:'CD8 Tmem',\n",
    "              1:'CD4-8',\n",
    "              2:'CD4 Tmem',\n",
    "              3:'Treg',\n",
    "              4:'CD4 Tmem',\n",
    "              5:'CD4-8',\n",
    "              6:'CD4 Tmem',\n",
    "              7:'CD8 GZMB+ Tmem'\n",
    "             }\n",
    "\n",
    "\n",
    "means = means.reset_index()\n",
    "means.index = means['index'].replace(map_clusters)\n",
    "means = means.drop('index',axis=1)\n",
    "plt.figure()\n",
    "sns.clustermap(means.T, annot=True,col_cluster=True,figsize=(10, 6))\n",
    "plt.show()"
   ]
  },
  {
   "cell_type": "code",
   "execution_count": null,
   "id": "1b0aa1fe-88eb-4726-92f0-ff17232ec5fd",
   "metadata": {},
   "outputs": [],
   "source": [
    "clusters_df=pd.DataFrame(clusters,index=df.index)[0].replace(map_clusters)\n",
    "adata.obs.loc[clusters_df.index, 'major_pixel_type'] = clusters_df"
   ]
  },
  {
   "cell_type": "code",
   "execution_count": null,
   "id": "433984ee-f39f-4464-b982-a3fcb4670d02",
   "metadata": {},
   "outputs": [],
   "source": [
    "n_components_range = range(2, 11)\n",
    "covariance_types = ['full', 'tied', 'diag', 'spherical']\n",
    "features_oi=['CD4','CD8']\n",
    "pixel_type='CD4-8'\n",
    "df=get_df_oi(adata,features_oi,pixel_type)[features_oi]\n",
    "mat=df.values"
   ]
  },
  {
   "cell_type": "code",
   "execution_count": null,
   "id": "2d7205c7-f7b9-4c2e-aa53-f64b488e5ea1",
   "metadata": {},
   "outputs": [],
   "source": [
    "gmm=GMMCluster.get_best_gmm(mat=mat,\n",
    "                            n_components_range=n_components_range,\n",
    "                            covariance_types=covariance_types,\n",
    "                            plot=False)"
   ]
  },
  {
   "cell_type": "code",
   "execution_count": null,
   "id": "7e7ca955-8187-4856-89b5-4b52bde012d9",
   "metadata": {},
   "outputs": [],
   "source": [
    "clusters = gmm.predict(mat)\n",
    "means=pd.DataFrame(gmm.means_,columns=features_oi)\n",
    "\n",
    "plt.figure()\n",
    "sns.clustermap(means.T, annot=True,col_cluster=True,figsize=(10, 6))\n",
    "plt.show()"
   ]
  },
  {
   "cell_type": "code",
   "execution_count": null,
   "id": "a288bc6a-d0d6-4453-b1f7-f8164ce84937",
   "metadata": {},
   "outputs": [],
   "source": [
    "map_clusters={0:'Other T',\n",
    "              1:'CD8 Tmem',\n",
    "              2:'CD4 Tmem'\n",
    "             }\n",
    "\n",
    "\n",
    "means = means.reset_index()\n",
    "means.index = means['index'].replace(map_clusters)\n",
    "means = means.drop('index',axis=1)\n",
    "plt.figure()\n",
    "sns.clustermap(means.T, annot=True,col_cluster=True,figsize=(10, 6))\n",
    "plt.show()"
   ]
  },
  {
   "cell_type": "code",
   "execution_count": null,
   "id": "53ce8959-1bf9-40f2-b184-ec80138794f0",
   "metadata": {},
   "outputs": [],
   "source": [
    "clusters_df=pd.DataFrame(clusters,index=df.index)[0].replace(map_clusters)\n",
    "adata.obs.loc[clusters_df.index, 'major_pixel_type'] = clusters_df"
   ]
  },
  {
   "cell_type": "code",
   "execution_count": null,
   "id": "a372abd5-2053-462a-ade8-62deb53c9244",
   "metadata": {},
   "outputs": [],
   "source": [
    "n_components_range = range(2, 11)\n",
    "covariance_types = ['full', 'tied', 'diag', 'spherical']\n",
    "features_oi=['PD-1','TIM-3']\n",
    "pixel_type='CD4 Tmem'\n",
    "df=get_df_oi(adata,features_oi,pixel_type)[features_oi]\n",
    "mat=df.values"
   ]
  },
  {
   "cell_type": "code",
   "execution_count": null,
   "id": "e0ba5a57-af0c-4076-983f-db286e5a85ed",
   "metadata": {},
   "outputs": [],
   "source": [
    "gmm=GMMCluster.get_best_gmm(mat=mat,\n",
    "                            n_components_range=n_components_range,\n",
    "                            covariance_types=covariance_types,\n",
    "                            plot=False)"
   ]
  },
  {
   "cell_type": "code",
   "execution_count": null,
   "id": "9f5554b4-db76-4ac8-9034-8fa5ca584a98",
   "metadata": {},
   "outputs": [],
   "source": [
    "clusters = gmm.predict(mat)\n",
    "means=pd.DataFrame(gmm.means_,columns=features_oi)\n",
    "\n",
    "plt.figure()\n",
    "sns.clustermap(means.T, annot=True,col_cluster=True,figsize=(10, 6))\n",
    "plt.show()"
   ]
  },
  {
   "cell_type": "code",
   "execution_count": null,
   "id": "0a0a76f0-5ad3-45d5-9ede-37ec3e42051f",
   "metadata": {},
   "outputs": [],
   "source": [
    "n_components_range = range(2, 11)\n",
    "covariance_types = ['full', 'tied', 'diag', 'spherical']\n",
    "features_oi=['PD-1','TIM-3']\n",
    "pixel_type='CD8 Tmem'\n",
    "df=get_df_oi(adata,features_oi,pixel_type)[features_oi]\n",
    "mat=df.values"
   ]
  },
  {
   "cell_type": "code",
   "execution_count": null,
   "id": "8f115ad3-578f-4cc2-b5cc-d094a5c17e9e",
   "metadata": {},
   "outputs": [],
   "source": [
    "gmm=GMMCluster.get_best_gmm(mat=mat,\n",
    "                            n_components_range=n_components_range,\n",
    "                            covariance_types=covariance_types,\n",
    "                            plot=False)"
   ]
  },
  {
   "cell_type": "code",
   "execution_count": null,
   "id": "e130f5a2-f466-4ad7-9d35-e1c877ca00a5",
   "metadata": {},
   "outputs": [],
   "source": [
    "clusters = gmm.predict(mat)\n",
    "means=pd.DataFrame(gmm.means_,columns=features_oi)\n",
    "\n",
    "plt.figure()\n",
    "sns.clustermap(means.T, annot=True,col_cluster=True,figsize=(10, 6))\n",
    "plt.show()"
   ]
  },
  {
   "cell_type": "code",
   "execution_count": null,
   "id": "c8364ad3-ce06-4700-8a24-6ee1aac7eb1f",
   "metadata": {},
   "outputs": [],
   "source": [
    "adata.obs['major_pixel_type'].value_counts().plot.bar()"
   ]
  },
  {
   "cell_type": "markdown",
   "id": "c28a9635-28c8-40fe-9d32-79d7f5511078",
   "metadata": {},
   "source": [
    "## NK"
   ]
  },
  {
   "cell_type": "code",
   "execution_count": null,
   "id": "95ce506b-2151-40ca-b635-5e3d532a9cdf",
   "metadata": {},
   "outputs": [],
   "source": [
    "n_components_range = range(2, 11)\n",
    "covariance_types = ['full', 'tied', 'diag', 'spherical']\n",
    "features_oi=['CD56','aSMA']\n",
    "pixel_type='NK'\n",
    "df=get_df_oi(adata,features_oi,pixel_type)[features_oi]\n",
    "mat=df.values"
   ]
  },
  {
   "cell_type": "code",
   "execution_count": null,
   "id": "e1289144-eeab-4cfa-8aff-837dfdeda459",
   "metadata": {},
   "outputs": [],
   "source": [
    "gmm=GMMCluster.get_best_gmm(mat=mat,\n",
    "                            n_components_range=n_components_range,\n",
    "                            covariance_types=covariance_types,\n",
    "                            plot=False)"
   ]
  },
  {
   "cell_type": "code",
   "execution_count": null,
   "id": "d8cf9c54-9d65-4725-8ac2-8238437b2341",
   "metadata": {},
   "outputs": [],
   "source": [
    "clusters = gmm.predict(mat)\n",
    "means=pd.DataFrame(gmm.means_,columns=features_oi)\n",
    "\n",
    "plt.figure()\n",
    "sns.clustermap(means.T, annot=True,col_cluster=True,figsize=(10, 6))\n",
    "plt.show()"
   ]
  },
  {
   "cell_type": "code",
   "execution_count": null,
   "id": "74661338-1d54-42d7-9352-6461a9006c89",
   "metadata": {},
   "outputs": [],
   "source": [
    "map_clusters={0:'NK',\n",
    "              1:'Unclassified',\n",
    "              2:'Unclassified',\n",
    "              3:'NK'\n",
    "             }\n",
    "\n",
    "means = means.reset_index()\n",
    "means.index = means['index'].replace(map_clusters)\n",
    "means = means.drop('index',axis=1)\n",
    "plt.figure()\n",
    "sns.clustermap(means.T, annot=True,col_cluster=True,figsize=(10, 6))\n",
    "plt.show()"
   ]
  },
  {
   "cell_type": "code",
   "execution_count": null,
   "id": "242bb789-a9a6-4292-88e6-80a6a122c2f6",
   "metadata": {},
   "outputs": [],
   "source": [
    "clusters_df=pd.DataFrame(clusters,index=df.index)[0].replace(map_clusters)\n",
    "adata.obs.loc[clusters_df.index, 'major_pixel_type'] = clusters_df"
   ]
  },
  {
   "cell_type": "markdown",
   "id": "d8afc196-7417-46a4-bf36-6af0c3cc3ba1",
   "metadata": {},
   "source": [
    "## Myeloma"
   ]
  },
  {
   "cell_type": "code",
   "execution_count": null,
   "id": "0c2ceecd-9d1c-4d46-971f-0fe27041f242",
   "metadata": {},
   "outputs": [],
   "source": [
    "n_components_range = range(2, 11)\n",
    "covariance_types = ['full', 'tied', 'diag', 'spherical']\n",
    "features_oi=['CD138','CD20','CD3','CD68','aSMA','CD45']\n",
    "pixel_type='Myeloma'\n",
    "df=get_df_oi(adata,features_oi,pixel_type)[features_oi]\n",
    "mat=df.values"
   ]
  },
  {
   "cell_type": "code",
   "execution_count": null,
   "id": "a18a4d8b-94b9-4640-be25-160afd9f2ccb",
   "metadata": {},
   "outputs": [],
   "source": [
    "gmm=GMMCluster.get_best_gmm(mat=mat,\n",
    "                            n_components_range=n_components_range,\n",
    "                            covariance_types=covariance_types,\n",
    "                            plot=False)"
   ]
  },
  {
   "cell_type": "code",
   "execution_count": null,
   "id": "16f8c519-92dc-4ff5-a878-c2bcff807d05",
   "metadata": {},
   "outputs": [],
   "source": [
    "clusters = gmm.predict(mat)\n",
    "means=pd.DataFrame(gmm.means_,columns=features_oi)\n",
    "\n",
    "plt.figure()\n",
    "sns.clustermap(means.T, annot=True,col_cluster=True,figsize=(10, 6))\n",
    "plt.show()"
   ]
  },
  {
   "cell_type": "code",
   "execution_count": null,
   "id": "20d88bb2-b9bd-4f56-8c7a-4b8c6ae02f7a",
   "metadata": {},
   "outputs": [],
   "source": [
    "map_clusters={0:'Myeloma',\n",
    "              1:'Myeloma',\n",
    "              2:'Myeloma',\n",
    "              3:'Myeloma',\n",
    "              4:'Myeloma',\n",
    "              5:'Unclassified',\n",
    "              6:'Unclassified',\n",
    "              7:'Myeloma',\n",
    "              8:'Myeloma',\n",
    "              9:'Unclassified'\n",
    "             }\n",
    "\n",
    "means = means.reset_index()\n",
    "means.index = means['index'].replace(map_clusters)\n",
    "means = means.drop('index',axis=1)\n",
    "plt.figure()\n",
    "sns.clustermap(means.T, annot=True,col_cluster=True,figsize=(10, 6))\n",
    "plt.show()"
   ]
  },
  {
   "cell_type": "code",
   "execution_count": null,
   "id": "3f5a2489-dbe2-480f-a061-a81a7e792981",
   "metadata": {},
   "outputs": [],
   "source": [
    "clusters_df=pd.DataFrame(clusters,index=df.index)[0].replace(map_clusters)\n",
    "adata.obs.loc[clusters_df.index, 'major_pixel_type'] = clusters_df"
   ]
  },
  {
   "cell_type": "code",
   "execution_count": null,
   "id": "5613b2ee-886c-4c22-b3e7-99bcf6b0923c",
   "metadata": {},
   "outputs": [],
   "source": [
    "adata.obs['major_pixel_type'].value_counts().plot.bar()"
   ]
  },
  {
   "cell_type": "markdown",
   "id": "3c4dc667-7221-40c9-87ed-dee3eed27686",
   "metadata": {},
   "source": [
    "## Megakaryocytes\n",
    "\n",
    "not in this tissue, changing with keratinocytes and others"
   ]
  },
  {
   "cell_type": "code",
   "execution_count": null,
   "id": "ae51dcf8-5406-47aa-ab73-f248ad866953",
   "metadata": {},
   "outputs": [],
   "source": [
    "n_components_range = range(2, 11)\n",
    "covariance_types = ['full', 'tied', 'diag', 'spherical']\n",
    "features_oi=['aSMA','CD31','CD45','Ki-67','CD68']\n",
    "pixel_type='Megakaryocytes'\n",
    "df=get_df_oi(adata,features_oi,pixel_type)[features_oi]\n",
    "mat=df.values"
   ]
  },
  {
   "cell_type": "code",
   "execution_count": null,
   "id": "21d6d1fb-90fa-4bc2-99d0-5180bb518d8c",
   "metadata": {},
   "outputs": [],
   "source": [
    "gmm=GMMCluster.get_best_gmm(mat=mat,\n",
    "                            n_components_range=n_components_range,\n",
    "                            covariance_types=covariance_types,\n",
    "                            plot=False)"
   ]
  },
  {
   "cell_type": "code",
   "execution_count": null,
   "id": "867dca9a-0860-4d40-af9f-6b33fd994727",
   "metadata": {},
   "outputs": [],
   "source": [
    "clusters = gmm.predict(mat)\n",
    "means=pd.DataFrame(gmm.means_,columns=features_oi)\n",
    "\n",
    "plt.figure()\n",
    "sns.clustermap(means.T, annot=True,col_cluster=True,figsize=(10, 6))\n",
    "plt.show()"
   ]
  },
  {
   "cell_type": "code",
   "execution_count": null,
   "id": "db85af86-bbc9-421e-8f61-bb80df1aad69",
   "metadata": {},
   "outputs": [],
   "source": [
    "map_clusters={0:'Unclassified',\n",
    "              1:'Unclassified',\n",
    "              2:'Unclassified',\n",
    "              3:'Unclassified',\n",
    "              4:'Unclassified'\n",
    "             }\n",
    "\n",
    "means = means.reset_index()\n",
    "means.index = means['index'].replace(map_clusters)\n",
    "means = means.drop('index',axis=1)\n",
    "plt.figure()\n",
    "sns.clustermap(means.T, annot=True,col_cluster=True,figsize=(10, 6))\n",
    "plt.show()"
   ]
  },
  {
   "cell_type": "code",
   "execution_count": null,
   "id": "047b18fc-920a-44be-ba3b-a089c10cdb88",
   "metadata": {},
   "outputs": [],
   "source": [
    "clusters_df=pd.DataFrame(clusters,index=df.index)[0].replace(map_clusters)\n",
    "adata.obs.loc[clusters_df.index, 'major_pixel_type'] = clusters_df"
   ]
  },
  {
   "cell_type": "code",
   "execution_count": null,
   "id": "939ba049-a00e-48ed-9209-f32564bc5ab3",
   "metadata": {},
   "outputs": [],
   "source": [
    "adata.obs['major_pixel_type'].value_counts().plot.bar()"
   ]
  },
  {
   "cell_type": "markdown",
   "id": "aa3cebae-b99c-4c7a-a6d8-9ab56611bb85",
   "metadata": {},
   "source": [
    "## Unclassified again"
   ]
  },
  {
   "cell_type": "code",
   "execution_count": null,
   "id": "9484c0f0-1056-4b67-a5da-03395d5c0e6c",
   "metadata": {},
   "outputs": [],
   "source": [
    "n_components_range = range(2, 11)\n",
    "covariance_types = ['full', 'tied', 'diag', 'spherical']\n",
    "features_oi=['CollagenI','aSMA','CD20','CD68','CD138','CD56','CD3']\n",
    "pixel_type='Unclassified'\n",
    "df=get_df_oi(adata,features_oi,pixel_type)[features_oi]\n",
    "mat=df.values"
   ]
  },
  {
   "cell_type": "code",
   "execution_count": null,
   "id": "581e85ec-3f56-4b3b-9852-3856f5e4cef9",
   "metadata": {},
   "outputs": [],
   "source": [
    "gmm=GMMCluster.get_best_gmm(mat=mat,\n",
    "                            n_components_range=n_components_range,\n",
    "                            covariance_types=covariance_types,\n",
    "                            plot=False)"
   ]
  },
  {
   "cell_type": "code",
   "execution_count": null,
   "id": "87c4f319-e4dc-40d4-b15a-068175e04a36",
   "metadata": {},
   "outputs": [],
   "source": [
    "clusters = gmm.predict(mat)\n",
    "means=pd.DataFrame(gmm.means_,columns=features_oi)\n",
    "\n",
    "plt.figure()\n",
    "sns.clustermap(means.T, annot=True,col_cluster=True,figsize=(10, 6))\n",
    "plt.show()"
   ]
  },
  {
   "cell_type": "code",
   "execution_count": null,
   "id": "630d35d6-dcfb-4396-bfba-889d4c1b2ce5",
   "metadata": {},
   "outputs": [],
   "source": [
    "map_clusters={0:'Endothelial',\n",
    "              1:'CAF?',\n",
    "              2:'CAF?',\n",
    "              3:'Myeloma',\n",
    "              4:'Unclassified',\n",
    "              5:'CAF?',\n",
    "              6:'Myeloma',\n",
    "              7:'Unclassified',\n",
    "              8:'CAF?',\n",
    "              9:'Myeloma'\n",
    "             }\n",
    "\n",
    "means = means.reset_index()\n",
    "means.index = means['index'].replace(map_clusters)\n",
    "means = means.drop('index',axis=1)\n",
    "plt.figure()\n",
    "sns.clustermap(means.T, annot=True,col_cluster=True,figsize=(10, 6))\n",
    "plt.show()"
   ]
  },
  {
   "cell_type": "code",
   "execution_count": null,
   "id": "a238d601-f402-4784-8f55-fa0181e0c303",
   "metadata": {},
   "outputs": [],
   "source": [
    "clusters_df=pd.DataFrame(clusters,index=df.index)[0].replace(map_clusters)\n",
    "adata.obs.loc[clusters_df.index, 'major_pixel_type'] = clusters_df"
   ]
  },
  {
   "cell_type": "code",
   "execution_count": null,
   "id": "a936d492-29d7-4f4d-b425-eb941e4a0e92",
   "metadata": {},
   "outputs": [],
   "source": [
    "adata.obs['major_pixel_type'].value_counts().plot.bar()"
   ]
  },
  {
   "cell_type": "code",
   "execution_count": null,
   "id": "d36cf758-1dfb-4e13-ad58-3b8dfdb54bde",
   "metadata": {},
   "outputs": [],
   "source": [
    "df=sc.get.obs_df(adata, list(adata.var_names)+['major_pixel_type'],layer='exprs')"
   ]
  },
  {
   "cell_type": "code",
   "execution_count": null,
   "id": "7af8f6d7-1c38-47cc-abcb-0a455b7998f3",
   "metadata": {},
   "outputs": [],
   "source": [
    "sns.clustermap(df.groupby('major_pixel_type').mean().T,standard_scale=1)"
   ]
  },
  {
   "cell_type": "code",
   "execution_count": null,
   "id": "3546bbb0-4ca1-47b8-985b-2ea4c1006012",
   "metadata": {},
   "outputs": [],
   "source": [
    "adata_old.obs = adata.obs"
   ]
  },
  {
   "cell_type": "code",
   "execution_count": null,
   "id": "d5ae8dc0-a9f0-4372-919f-4c1cd9395ddc",
   "metadata": {},
   "outputs": [],
   "source": [
    "adata_old.write('../data/emd/emd_annotated.h5ad')"
   ]
  }
 ],
 "metadata": {
  "kernelspec": {
   "display_name": "Python 3 (ipykernel)",
   "language": "python",
   "name": "python3"
  },
  "language_info": {
   "codemirror_mode": {
    "name": "ipython",
    "version": 3
   },
   "file_extension": ".py",
   "mimetype": "text/x-python",
   "name": "python",
   "nbconvert_exporter": "python",
   "pygments_lexer": "ipython3",
   "version": "3.10.8"
  }
 },
 "nbformat": 4,
 "nbformat_minor": 5
}
